{
 "cells": [
  {
   "cell_type": "markdown",
   "id": "3e004731-9e08-47fe-b020-1c85404119b1",
   "metadata": {},
   "source": [
    "<h1>Analyst : Sophia Joyce Lozada</h1>"
   ]
  },
  {
   "cell_type": "code",
   "execution_count": 1,
   "id": "ca60f178-694e-41be-965f-9a597140f9b1",
   "metadata": {},
   "outputs": [],
   "source": [
    "import numpy as np\n",
    "import pandas as pd\n",
    "import seaborn as sns\n",
    "import matplotlib.pyplot as plt\n",
    "from scipy.stats import f_oneway\n",
    "import warnings\n",
    "warnings.filterwarnings('ignore')"
   ]
  },
  {
   "cell_type": "code",
   "execution_count": 2,
   "id": "6660b175-5991-40da-a49b-b07960ffff86",
   "metadata": {},
   "outputs": [],
   "source": [
    "dengue = pd.read_csv('dengue.csv')"
   ]
  },
  {
   "cell_type": "code",
   "execution_count": 3,
   "id": "45e172bf-3d6e-4d62-8d8c-0ac0cbf6215d",
   "metadata": {},
   "outputs": [
    {
     "data": {
      "text/html": [
       "<div>\n",
       "<style scoped>\n",
       "    .dataframe tbody tr th:only-of-type {\n",
       "        vertical-align: middle;\n",
       "    }\n",
       "\n",
       "    .dataframe tbody tr th {\n",
       "        vertical-align: top;\n",
       "    }\n",
       "\n",
       "    .dataframe thead th {\n",
       "        text-align: right;\n",
       "    }\n",
       "</style>\n",
       "<table border=\"1\" class=\"dataframe\">\n",
       "  <thead>\n",
       "    <tr style=\"text-align: right;\">\n",
       "      <th></th>\n",
       "      <th>Month</th>\n",
       "      <th>Year</th>\n",
       "      <th>Region</th>\n",
       "      <th>Dengue_Cases</th>\n",
       "      <th>Dengue_Deaths</th>\n",
       "    </tr>\n",
       "  </thead>\n",
       "  <tbody>\n",
       "    <tr>\n",
       "      <th>0</th>\n",
       "      <td>January</td>\n",
       "      <td>2016</td>\n",
       "      <td>Region I</td>\n",
       "      <td>705</td>\n",
       "      <td>1</td>\n",
       "    </tr>\n",
       "    <tr>\n",
       "      <th>1</th>\n",
       "      <td>February</td>\n",
       "      <td>2016</td>\n",
       "      <td>Region I</td>\n",
       "      <td>374</td>\n",
       "      <td>0</td>\n",
       "    </tr>\n",
       "    <tr>\n",
       "      <th>2</th>\n",
       "      <td>March</td>\n",
       "      <td>2016</td>\n",
       "      <td>Region I</td>\n",
       "      <td>276</td>\n",
       "      <td>0</td>\n",
       "    </tr>\n",
       "    <tr>\n",
       "      <th>3</th>\n",
       "      <td>April</td>\n",
       "      <td>2016</td>\n",
       "      <td>Region I</td>\n",
       "      <td>240</td>\n",
       "      <td>2</td>\n",
       "    </tr>\n",
       "    <tr>\n",
       "      <th>4</th>\n",
       "      <td>May</td>\n",
       "      <td>2016</td>\n",
       "      <td>Region I</td>\n",
       "      <td>243</td>\n",
       "      <td>1</td>\n",
       "    </tr>\n",
       "    <tr>\n",
       "      <th>...</th>\n",
       "      <td>...</td>\n",
       "      <td>...</td>\n",
       "      <td>...</td>\n",
       "      <td>...</td>\n",
       "      <td>...</td>\n",
       "    </tr>\n",
       "    <tr>\n",
       "      <th>1015</th>\n",
       "      <td>August</td>\n",
       "      <td>2020</td>\n",
       "      <td>BARMM</td>\n",
       "      <td>91</td>\n",
       "      <td>0</td>\n",
       "    </tr>\n",
       "    <tr>\n",
       "      <th>1016</th>\n",
       "      <td>September</td>\n",
       "      <td>2020</td>\n",
       "      <td>BARMM</td>\n",
       "      <td>16</td>\n",
       "      <td>8</td>\n",
       "    </tr>\n",
       "    <tr>\n",
       "      <th>1017</th>\n",
       "      <td>October</td>\n",
       "      <td>2020</td>\n",
       "      <td>BARMM</td>\n",
       "      <td>13</td>\n",
       "      <td>9</td>\n",
       "    </tr>\n",
       "    <tr>\n",
       "      <th>1018</th>\n",
       "      <td>November</td>\n",
       "      <td>2020</td>\n",
       "      <td>BARMM</td>\n",
       "      <td>15</td>\n",
       "      <td>1</td>\n",
       "    </tr>\n",
       "    <tr>\n",
       "      <th>1019</th>\n",
       "      <td>December</td>\n",
       "      <td>2020</td>\n",
       "      <td>BARMM</td>\n",
       "      <td>23</td>\n",
       "      <td>0</td>\n",
       "    </tr>\n",
       "  </tbody>\n",
       "</table>\n",
       "<p>1020 rows × 5 columns</p>\n",
       "</div>"
      ],
      "text/plain": [
       "          Month  Year    Region  Dengue_Cases  Dengue_Deaths\n",
       "0       January  2016  Region I           705              1\n",
       "1      February  2016  Region I           374              0\n",
       "2         March  2016  Region I           276              0\n",
       "3         April  2016  Region I           240              2\n",
       "4           May  2016  Region I           243              1\n",
       "...         ...   ...       ...           ...            ...\n",
       "1015     August  2020     BARMM            91              0\n",
       "1016  September  2020     BARMM            16              8\n",
       "1017    October  2020     BARMM            13              9\n",
       "1018   November  2020     BARMM            15              1\n",
       "1019   December  2020     BARMM            23              0\n",
       "\n",
       "[1020 rows x 5 columns]"
      ]
     },
     "execution_count": 3,
     "metadata": {},
     "output_type": "execute_result"
    }
   ],
   "source": [
    "dengue"
   ]
  },
  {
   "cell_type": "code",
   "execution_count": 4,
   "id": "b16079a7-206c-4434-a6f4-4a8d1a513e15",
   "metadata": {},
   "outputs": [
    {
     "data": {
      "text/plain": [
       "Month            0\n",
       "Year             0\n",
       "Region           0\n",
       "Dengue_Cases     0\n",
       "Dengue_Deaths    0\n",
       "dtype: int64"
      ]
     },
     "execution_count": 4,
     "metadata": {},
     "output_type": "execute_result"
    }
   ],
   "source": [
    "dengue.isnull().sum()"
   ]
  },
  {
   "cell_type": "code",
   "execution_count": 10,
   "id": "bf969610-8b17-4ac2-91a4-8a905dd65ff4",
   "metadata": {},
   "outputs": [
    {
     "data": {
      "text/plain": [
       "Month              object\n",
       "Year               object\n",
       "Region           category\n",
       "Dengue_Cases        int64\n",
       "Dengue_Deaths       int64\n",
       "dtype: object"
      ]
     },
     "execution_count": 10,
     "metadata": {},
     "output_type": "execute_result"
    }
   ],
   "source": [
    "dengue.dtypes"
   ]
  },
  {
   "cell_type": "code",
   "execution_count": 9,
   "id": "d2e592f6-66e8-4032-b1f8-2767ac9ebc1a",
   "metadata": {},
   "outputs": [],
   "source": [
    "dengue['Region'] = dengue['Region'].astype('category')\n",
    "dengue['Year'] = dengue['Year'].astype('object')\n",
    "\n"
   ]
  },
  {
   "cell_type": "code",
   "execution_count": 11,
   "id": "aea3b7ff-5bd8-4944-8ae2-748597f65d02",
   "metadata": {},
   "outputs": [
    {
     "data": {
      "text/plain": [
       "Month\n",
       "January      85\n",
       "February     85\n",
       "March        85\n",
       "April        85\n",
       "May          85\n",
       "June         85\n",
       "July         85\n",
       "August       85\n",
       "September    85\n",
       "October      85\n",
       "November     85\n",
       "December     85\n",
       "Name: count, dtype: int64"
      ]
     },
     "execution_count": 11,
     "metadata": {},
     "output_type": "execute_result"
    }
   ],
   "source": [
    "dengue['Month'].value_counts()"
   ]
  },
  {
   "cell_type": "code",
   "execution_count": 12,
   "id": "91d29983-4de5-45dc-9a90-f83d87496732",
   "metadata": {},
   "outputs": [
    {
     "data": {
      "text/plain": [
       "Year\n",
       "2016    204\n",
       "2017    204\n",
       "2018    204\n",
       "2019    204\n",
       "2020    204\n",
       "Name: count, dtype: int64"
      ]
     },
     "execution_count": 12,
     "metadata": {},
     "output_type": "execute_result"
    }
   ],
   "source": [
    "dengue['Year'].value_counts()"
   ]
  },
  {
   "cell_type": "code",
   "execution_count": 13,
   "id": "7e17dec2-0105-4c04-8c30-e9a3e0748835",
   "metadata": {},
   "outputs": [
    {
     "data": {
      "text/plain": [
       "Region\n",
       "BARMM          60\n",
       "CAR            60\n",
       "NCR            60\n",
       "Region I       60\n",
       "Region II      60\n",
       "Region III     60\n",
       "Region IV-A    60\n",
       "Region IV-B    60\n",
       "Region IX      60\n",
       "Region V       60\n",
       "Region VI      60\n",
       "Region VII     60\n",
       "Region VIII    60\n",
       "Region X       60\n",
       "Region XI      60\n",
       "Region XII     60\n",
       "Region XIII    60\n",
       "Name: count, dtype: int64"
      ]
     },
     "execution_count": 13,
     "metadata": {},
     "output_type": "execute_result"
    }
   ],
   "source": [
    "dengue['Region'].value_counts()"
   ]
  },
  {
   "cell_type": "markdown",
   "id": "805caf12-51ba-4906-b070-8a7c8a456000",
   "metadata": {},
   "source": [
    "<h1>1.Regional Distribution of Dengue Deaths<h1/>\n",
    "<h3>NCR has the highest dengue-related deaths (4008), likely due to its dense population and high transmission rates, followed by Region XII (2796) and Region VI (1825). The lowest death rates are in Region IV-B (130), Region I (157), and Region II (193), possibly due to better healthcare response or lower infection rates. </h3>"
   ]
  },
  {
   "cell_type": "code",
   "execution_count": 64,
   "id": "05bda32a-09f9-4a11-ab97-cacd24f383c3",
   "metadata": {},
   "outputs": [],
   "source": [
    "deaths_by_region =dengue.groupby('Region')['Dengue_Deaths'].sum()"
   ]
  },
  {
   "cell_type": "code",
   "execution_count": 16,
   "id": "cf2394c9-6da0-4089-af7e-3b9c414a334c",
   "metadata": {},
   "outputs": [
    {
     "data": {
      "text/plain": [
       "Region\n",
       "BARMM           332\n",
       "CAR            1008\n",
       "NCR            4008\n",
       "Region I        157\n",
       "Region II       193\n",
       "Region III      482\n",
       "Region IV-A     652\n",
       "Region IV-B     130\n",
       "Region IX       532\n",
       "Region V        185\n",
       "Region VI      1825\n",
       "Region VII     1760\n",
       "Region VIII     585\n",
       "Region X        848\n",
       "Region XI       385\n",
       "Region XII     2796\n",
       "Region XIII     966\n",
       "Name: Dengue_Deaths, dtype: int64"
      ]
     },
     "execution_count": 16,
     "metadata": {},
     "output_type": "execute_result"
    }
   ],
   "source": [
    "deaths_by_region "
   ]
  },
  {
   "cell_type": "markdown",
   "id": "6e8502cb-6e84-4edf-a1d9-3f7c9890d4dd",
   "metadata": {},
   "source": [
    "<h1>2.Case Fatality Rate by Region</h1>\n",
    "<h3>Region XII has the highest case fatality rate (CFR) of 4.68%, indicating a severe impact of dengue, possibly due to healthcare limitations or delayed interventions. NCR (3.46%) and CAR (3.30%) also have high fatality rates despite having more developed healthcare infrastructure, suggesting high transmission and severe cases. In contrast, Region I (0.27%) and Region III (0.37%) have the lowest CFRs, which may reflect better disease management, early diagnosis, or stronger healthcare systems.</h3>"
   ]
  },
  {
   "cell_type": "code",
   "execution_count": 17,
   "id": "5f1d567a-c410-48e1-b444-f8a5cce85cba",
   "metadata": {},
   "outputs": [],
   "source": [
    "\n",
    "fatality_rate_region = (dengue.groupby('Region')[['Dengue_Cases', 'Dengue_Deaths']].sum())\n",
    "fatality_rate_region['CFR'] = fatality_rate_region['Dengue_Deaths'] / fatality_rate_region['Dengue_Cases']\n",
    "\n"
   ]
  },
  {
   "cell_type": "code",
   "execution_count": 18,
   "id": "3f6d77fd-37c3-424a-8edd-58a78d0a47f9",
   "metadata": {},
   "outputs": [
    {
     "data": {
      "text/html": [
       "<div>\n",
       "<style scoped>\n",
       "    .dataframe tbody tr th:only-of-type {\n",
       "        vertical-align: middle;\n",
       "    }\n",
       "\n",
       "    .dataframe tbody tr th {\n",
       "        vertical-align: top;\n",
       "    }\n",
       "\n",
       "    .dataframe thead th {\n",
       "        text-align: right;\n",
       "    }\n",
       "</style>\n",
       "<table border=\"1\" class=\"dataframe\">\n",
       "  <thead>\n",
       "    <tr style=\"text-align: right;\">\n",
       "      <th></th>\n",
       "      <th>Dengue_Cases</th>\n",
       "      <th>Dengue_Deaths</th>\n",
       "      <th>CFR</th>\n",
       "    </tr>\n",
       "    <tr>\n",
       "      <th>Region</th>\n",
       "      <th></th>\n",
       "      <th></th>\n",
       "      <th></th>\n",
       "    </tr>\n",
       "  </thead>\n",
       "  <tbody>\n",
       "    <tr>\n",
       "      <th>BARMM</th>\n",
       "      <td>11537</td>\n",
       "      <td>332</td>\n",
       "      <td>0.028777</td>\n",
       "    </tr>\n",
       "    <tr>\n",
       "      <th>CAR</th>\n",
       "      <td>30582</td>\n",
       "      <td>1008</td>\n",
       "      <td>0.032961</td>\n",
       "    </tr>\n",
       "    <tr>\n",
       "      <th>NCR</th>\n",
       "      <td>115966</td>\n",
       "      <td>4008</td>\n",
       "      <td>0.034562</td>\n",
       "    </tr>\n",
       "    <tr>\n",
       "      <th>Region I</th>\n",
       "      <td>59066</td>\n",
       "      <td>157</td>\n",
       "      <td>0.002658</td>\n",
       "    </tr>\n",
       "    <tr>\n",
       "      <th>Region II</th>\n",
       "      <td>45141</td>\n",
       "      <td>193</td>\n",
       "      <td>0.004275</td>\n",
       "    </tr>\n",
       "    <tr>\n",
       "      <th>Region III</th>\n",
       "      <td>131064</td>\n",
       "      <td>482</td>\n",
       "      <td>0.003678</td>\n",
       "    </tr>\n",
       "    <tr>\n",
       "      <th>Region IV-A</th>\n",
       "      <td>163029</td>\n",
       "      <td>652</td>\n",
       "      <td>0.003999</td>\n",
       "    </tr>\n",
       "    <tr>\n",
       "      <th>Region IV-B</th>\n",
       "      <td>30849</td>\n",
       "      <td>130</td>\n",
       "      <td>0.004214</td>\n",
       "    </tr>\n",
       "    <tr>\n",
       "      <th>Region IX</th>\n",
       "      <td>47781</td>\n",
       "      <td>532</td>\n",
       "      <td>0.011134</td>\n",
       "    </tr>\n",
       "    <tr>\n",
       "      <th>Region V</th>\n",
       "      <td>22167</td>\n",
       "      <td>185</td>\n",
       "      <td>0.008346</td>\n",
       "    </tr>\n",
       "    <tr>\n",
       "      <th>Region VI</th>\n",
       "      <td>117523</td>\n",
       "      <td>1825</td>\n",
       "      <td>0.015529</td>\n",
       "    </tr>\n",
       "    <tr>\n",
       "      <th>Region VII</th>\n",
       "      <td>110683</td>\n",
       "      <td>1760</td>\n",
       "      <td>0.015901</td>\n",
       "    </tr>\n",
       "    <tr>\n",
       "      <th>Region VIII</th>\n",
       "      <td>51983</td>\n",
       "      <td>585</td>\n",
       "      <td>0.011254</td>\n",
       "    </tr>\n",
       "    <tr>\n",
       "      <th>Region X</th>\n",
       "      <td>82437</td>\n",
       "      <td>848</td>\n",
       "      <td>0.010287</td>\n",
       "    </tr>\n",
       "    <tr>\n",
       "      <th>Region XI</th>\n",
       "      <td>32522</td>\n",
       "      <td>385</td>\n",
       "      <td>0.011838</td>\n",
       "    </tr>\n",
       "    <tr>\n",
       "      <th>Region XII</th>\n",
       "      <td>59802</td>\n",
       "      <td>2796</td>\n",
       "      <td>0.046754</td>\n",
       "    </tr>\n",
       "    <tr>\n",
       "      <th>Region XIII</th>\n",
       "      <td>35293</td>\n",
       "      <td>966</td>\n",
       "      <td>0.027371</td>\n",
       "    </tr>\n",
       "  </tbody>\n",
       "</table>\n",
       "</div>"
      ],
      "text/plain": [
       "             Dengue_Cases  Dengue_Deaths       CFR\n",
       "Region                                            \n",
       "BARMM               11537            332  0.028777\n",
       "CAR                 30582           1008  0.032961\n",
       "NCR                115966           4008  0.034562\n",
       "Region I            59066            157  0.002658\n",
       "Region II           45141            193  0.004275\n",
       "Region III         131064            482  0.003678\n",
       "Region IV-A        163029            652  0.003999\n",
       "Region IV-B         30849            130  0.004214\n",
       "Region IX           47781            532  0.011134\n",
       "Region V            22167            185  0.008346\n",
       "Region VI          117523           1825  0.015529\n",
       "Region VII         110683           1760  0.015901\n",
       "Region VIII         51983            585  0.011254\n",
       "Region X            82437            848  0.010287\n",
       "Region XI           32522            385  0.011838\n",
       "Region XII          59802           2796  0.046754\n",
       "Region XIII         35293            966  0.027371"
      ]
     },
     "execution_count": 18,
     "metadata": {},
     "output_type": "execute_result"
    }
   ],
   "source": [
    "fatality_rate_region"
   ]
  },
  {
   "cell_type": "markdown",
   "id": "302a2f51-aa37-4906-ab37-14f21e9c1f53",
   "metadata": {},
   "source": [
    "<h1>3.Regional Distribution of Dengue Cases </h1>\n",
    "<h3>Region IV-A (163,029) and Region III (131,064) have the highest dengue cases, likely due to high population density and mosquito-breeding conditions. In contrast, BARMM (11,537) and Region V (22,167) report the lowest cases, possibly due to lower population density or effective vector control measures.</h3>"
   ]
  },
  {
   "cell_type": "code",
   "execution_count": 30,
   "id": "1b3282b0-f5ac-487b-b616-04a061c1b851",
   "metadata": {},
   "outputs": [],
   "source": [
    "cases_by_region = dengue.groupby('Region')['Dengue_Cases'].sum()"
   ]
  },
  {
   "cell_type": "markdown",
   "id": "b0c5a041-1f09-4755-a39f-769135f27fb3",
   "metadata": {},
   "source": [
    "cases_by_region "
   ]
  },
  {
   "cell_type": "markdown",
   "id": "8a3224d5-4fe0-47b7-88e7-3e7b635f7bc2",
   "metadata": {},
   "source": [
    "<h1>4.Top 5 Regions with Highest Cases</h1>\n",
    "<h3>Region IV-A (163,029) has the highest dengue cases, followed by Region III (131,064) and Region VI (117,523), indicating that densely populated and urbanized areas are most affected.</h3>"
   ]
  },
  {
   "cell_type": "code",
   "execution_count": 33,
   "id": "46e1ff3d-b057-4329-8159-5a2235c97c1b",
   "metadata": {},
   "outputs": [],
   "source": [
    "top_5_cases = cases_by_region.nlargest(5)"
   ]
  },
  {
   "cell_type": "code",
   "execution_count": 34,
   "id": "f84f1dc5-f986-4e5a-833a-f15ee02716e0",
   "metadata": {},
   "outputs": [
    {
     "data": {
      "text/plain": [
       "Region\n",
       "Region IV-A    163029\n",
       "Region III     131064\n",
       "Region VI      117523\n",
       "NCR            115966\n",
       "Region VII     110683\n",
       "Name: Dengue_Cases, dtype: int64"
      ]
     },
     "execution_count": 34,
     "metadata": {},
     "output_type": "execute_result"
    }
   ],
   "source": [
    "top_5_cases"
   ]
  },
  {
   "cell_type": "markdown",
   "id": "eadc2de7-610b-4992-896c-99332f77b0c1",
   "metadata": {},
   "source": [
    "<h1>5.Top 5 Regions with Highest Deaths</h1>\n",
    "<h3>NCR (4,008) has the highest number of dengue-related deaths, likely due to its large population and high transmission rates, while Region XII (2,796) follows with a concerningly high fatality rate. Regions VI (1,825), VII (1,760), and CAR (1,008) also report significant deaths, suggesting possible healthcare challenges or late detection in these areas.</h3>"
   ]
  },
  {
   "cell_type": "code",
   "execution_count": 35,
   "id": "c56f7f39-b262-4049-b667-d0e288c1ef94",
   "metadata": {},
   "outputs": [],
   "source": [
    "top_5_deaths = deaths_by_region.nlargest(5)"
   ]
  },
  {
   "cell_type": "code",
   "execution_count": 36,
   "id": "6383e161-f5d1-42ee-931d-e4cfa7fb67a8",
   "metadata": {},
   "outputs": [
    {
     "data": {
      "text/plain": [
       "Region\n",
       "NCR           4008\n",
       "Region XII    2796\n",
       "Region VI     1825\n",
       "Region VII    1760\n",
       "CAR           1008\n",
       "Name: Dengue_Deaths, dtype: int64"
      ]
     },
     "execution_count": 36,
     "metadata": {},
     "output_type": "execute_result"
    }
   ],
   "source": [
    "top_5_deaths"
   ]
  },
  {
   "cell_type": "markdown",
   "id": "be3a0db2-00df-4c4a-9b51-5f24bc09851d",
   "metadata": {},
   "source": [
    "<h1>6.Yearly Case Fatality Rate</h1>\n",
    "<h3>The dengue fatality rate significantly declined from 3.88% in 2016 to 0.39% in 2019, despite a sharp increase in cases, indicating improved disease management and healthcare response. However, in 2020, the fatality rate rose to 1.31%, possibly due to healthcare system challenges during the COVID-19 pandemic, which may have affected dengue treatment and hospital capacities.</h3>"
   ]
  },
  {
   "cell_type": "code",
   "execution_count": 65,
   "id": "18d576fb-03f7-4e6a-9d86-1427c31ef1ca",
   "metadata": {},
   "outputs": [],
   "source": [
    "yearly_fatality_rate = (dengue.groupby('Year')[['Dengue_Cases', 'Dengue_Deaths']].sum())\n",
    "yearly_fatality_rate['CFR'] = yearly_fatality_rate['Dengue_Deaths'] / yearly_fatality_rate['Dengue_Cases']"
   ]
  },
  {
   "cell_type": "code",
   "execution_count": 21,
   "id": "8de7a88e-2324-43cb-a37a-035b32891ebb",
   "metadata": {},
   "outputs": [
    {
     "data": {
      "text/html": [
       "<div>\n",
       "<style scoped>\n",
       "    .dataframe tbody tr th:only-of-type {\n",
       "        vertical-align: middle;\n",
       "    }\n",
       "\n",
       "    .dataframe tbody tr th {\n",
       "        vertical-align: top;\n",
       "    }\n",
       "\n",
       "    .dataframe thead th {\n",
       "        text-align: right;\n",
       "    }\n",
       "</style>\n",
       "<table border=\"1\" class=\"dataframe\">\n",
       "  <thead>\n",
       "    <tr style=\"text-align: right;\">\n",
       "      <th></th>\n",
       "      <th>Dengue_Cases</th>\n",
       "      <th>Dengue_Deaths</th>\n",
       "      <th>CFR</th>\n",
       "    </tr>\n",
       "    <tr>\n",
       "      <th>Year</th>\n",
       "      <th></th>\n",
       "      <th></th>\n",
       "      <th></th>\n",
       "    </tr>\n",
       "  </thead>\n",
       "  <tbody>\n",
       "    <tr>\n",
       "      <th>2016</th>\n",
       "      <td>209544</td>\n",
       "      <td>8127</td>\n",
       "      <td>0.038784</td>\n",
       "    </tr>\n",
       "    <tr>\n",
       "      <th>2017</th>\n",
       "      <td>154155</td>\n",
       "      <td>4563</td>\n",
       "      <td>0.029600</td>\n",
       "    </tr>\n",
       "    <tr>\n",
       "      <th>2018</th>\n",
       "      <td>250783</td>\n",
       "      <td>1226</td>\n",
       "      <td>0.004889</td>\n",
       "    </tr>\n",
       "    <tr>\n",
       "      <th>2019</th>\n",
       "      <td>441902</td>\n",
       "      <td>1733</td>\n",
       "      <td>0.003922</td>\n",
       "    </tr>\n",
       "    <tr>\n",
       "      <th>2020</th>\n",
       "      <td>91041</td>\n",
       "      <td>1195</td>\n",
       "      <td>0.013126</td>\n",
       "    </tr>\n",
       "  </tbody>\n",
       "</table>\n",
       "</div>"
      ],
      "text/plain": [
       "      Dengue_Cases  Dengue_Deaths       CFR\n",
       "Year                                       \n",
       "2016        209544           8127  0.038784\n",
       "2017        154155           4563  0.029600\n",
       "2018        250783           1226  0.004889\n",
       "2019        441902           1733  0.003922\n",
       "2020         91041           1195  0.013126"
      ]
     },
     "execution_count": 21,
     "metadata": {},
     "output_type": "execute_result"
    }
   ],
   "source": [
    "yearly_fatality_rate"
   ]
  },
  {
   "cell_type": "markdown",
   "id": "19d19453-abe7-4e4c-9caf-1213bdcbbf67",
   "metadata": {},
   "source": [
    "<h1>7.Yearly Average Cases and Deaths</h1>\n",
    "<h3>Dengue cases peaked in 2019 with an average of 2,166 cases per reporting period, but the fatality rate remained low, suggesting improved treatment and surveillance. In 2020, average cases dropped significantly to 446.</h3>"
   ]
  },
  {
   "cell_type": "code",
   "execution_count": 26,
   "id": "00178469-f2fe-474d-9dcc-f655cb9fe375",
   "metadata": {},
   "outputs": [],
   "source": [
    "yearly_avg = dengue.groupby('Year')[['Dengue_Cases', 'Dengue_Deaths']].mean()"
   ]
  },
  {
   "cell_type": "code",
   "execution_count": 27,
   "id": "261b6593-0000-4150-bd52-b9be8787bd22",
   "metadata": {},
   "outputs": [
    {
     "data": {
      "text/html": [
       "<div>\n",
       "<style scoped>\n",
       "    .dataframe tbody tr th:only-of-type {\n",
       "        vertical-align: middle;\n",
       "    }\n",
       "\n",
       "    .dataframe tbody tr th {\n",
       "        vertical-align: top;\n",
       "    }\n",
       "\n",
       "    .dataframe thead th {\n",
       "        text-align: right;\n",
       "    }\n",
       "</style>\n",
       "<table border=\"1\" class=\"dataframe\">\n",
       "  <thead>\n",
       "    <tr style=\"text-align: right;\">\n",
       "      <th></th>\n",
       "      <th>Dengue_Cases</th>\n",
       "      <th>Dengue_Deaths</th>\n",
       "    </tr>\n",
       "    <tr>\n",
       "      <th>Year</th>\n",
       "      <th></th>\n",
       "      <th></th>\n",
       "    </tr>\n",
       "  </thead>\n",
       "  <tbody>\n",
       "    <tr>\n",
       "      <th>2016</th>\n",
       "      <td>1027.176471</td>\n",
       "      <td>39.838235</td>\n",
       "    </tr>\n",
       "    <tr>\n",
       "      <th>2017</th>\n",
       "      <td>755.661765</td>\n",
       "      <td>22.367647</td>\n",
       "    </tr>\n",
       "    <tr>\n",
       "      <th>2018</th>\n",
       "      <td>1229.328431</td>\n",
       "      <td>6.009804</td>\n",
       "    </tr>\n",
       "    <tr>\n",
       "      <th>2019</th>\n",
       "      <td>2166.186275</td>\n",
       "      <td>8.495098</td>\n",
       "    </tr>\n",
       "    <tr>\n",
       "      <th>2020</th>\n",
       "      <td>446.279412</td>\n",
       "      <td>5.857843</td>\n",
       "    </tr>\n",
       "  </tbody>\n",
       "</table>\n",
       "</div>"
      ],
      "text/plain": [
       "      Dengue_Cases  Dengue_Deaths\n",
       "Year                             \n",
       "2016   1027.176471      39.838235\n",
       "2017    755.661765      22.367647\n",
       "2018   1229.328431       6.009804\n",
       "2019   2166.186275       8.495098\n",
       "2020    446.279412       5.857843"
      ]
     },
     "execution_count": 27,
     "metadata": {},
     "output_type": "execute_result"
    }
   ],
   "source": [
    "yearly_avg"
   ]
  },
  {
   "cell_type": "markdown",
   "id": "05fe06c5-ee5d-41fb-8d77-cd969fc60e24",
   "metadata": {},
   "source": [
    "<h1>8.Correlation Between Cases and Deaths</h1>\n",
    "<h3>The low correlation (0.038) between dengue cases and deaths suggests that a higher number of cases does not necessarily lead to a proportional increase in deaths. </h3>"
   ]
  },
  {
   "cell_type": "code",
   "execution_count": 24,
   "id": "b3b5a9c6-66a9-482c-a627-8466e9c865a7",
   "metadata": {},
   "outputs": [],
   "source": [
    "case_deaths = dengue[['Dengue_Cases', 'Dengue_Deaths']].corr()"
   ]
  },
  {
   "cell_type": "code",
   "execution_count": 25,
   "id": "d1ab6320-de4f-4e70-86c7-6dec56ac9fcc",
   "metadata": {},
   "outputs": [
    {
     "data": {
      "text/html": [
       "<div>\n",
       "<style scoped>\n",
       "    .dataframe tbody tr th:only-of-type {\n",
       "        vertical-align: middle;\n",
       "    }\n",
       "\n",
       "    .dataframe tbody tr th {\n",
       "        vertical-align: top;\n",
       "    }\n",
       "\n",
       "    .dataframe thead th {\n",
       "        text-align: right;\n",
       "    }\n",
       "</style>\n",
       "<table border=\"1\" class=\"dataframe\">\n",
       "  <thead>\n",
       "    <tr style=\"text-align: right;\">\n",
       "      <th></th>\n",
       "      <th>Dengue_Cases</th>\n",
       "      <th>Dengue_Deaths</th>\n",
       "    </tr>\n",
       "  </thead>\n",
       "  <tbody>\n",
       "    <tr>\n",
       "      <th>Dengue_Cases</th>\n",
       "      <td>1.000000</td>\n",
       "      <td>0.038322</td>\n",
       "    </tr>\n",
       "    <tr>\n",
       "      <th>Dengue_Deaths</th>\n",
       "      <td>0.038322</td>\n",
       "      <td>1.000000</td>\n",
       "    </tr>\n",
       "  </tbody>\n",
       "</table>\n",
       "</div>"
      ],
      "text/plain": [
       "               Dengue_Cases  Dengue_Deaths\n",
       "Dengue_Cases       1.000000       0.038322\n",
       "Dengue_Deaths      0.038322       1.000000"
      ]
     },
     "execution_count": 25,
     "metadata": {},
     "output_type": "execute_result"
    }
   ],
   "source": [
    "case_deaths"
   ]
  },
  {
   "cell_type": "markdown",
   "id": "9bbf427a-2f40-49a9-acd2-9918268292e8",
   "metadata": {},
   "source": [
    "<h1> 9. & 10. Seasonal Patterns in Dengue Cases and Deaths </h1>\n",
    "<h3>Dengue cases peak in August (187,554) and September (177,943), aligning with the rainy season, which creates ideal mosquito breeding conditions. Similarly, deaths are highest in October (6,670) and September (6,148), suggesting that severe cases may take time to progress to fatalities. The lowest cases occur in April (32,508) and May (32,387), indicating reduced transmission during drier months. This pattern highlights the need for intensified mosquito control and public health interventions before and during the peak rainy months.</h3>"
   ]
  },
  {
   "cell_type": "code",
   "execution_count": 38,
   "id": "05995802-74f0-4d49-ba34-2ef6e53c4ca8",
   "metadata": {},
   "outputs": [],
   "source": [
    "seasonal_cases = dengue.groupby('Month')['Dengue_Cases'].sum()\n",
    "seasonal_deaths = dengue.groupby('Month')['Dengue_Deaths'].sum()"
   ]
  },
  {
   "cell_type": "code",
   "execution_count": 39,
   "id": "af95b0af-9014-4c63-814d-752c4fcdef93",
   "metadata": {},
   "outputs": [
    {
     "data": {
      "text/plain": [
       "Month\n",
       "April         32508\n",
       "August       187554\n",
       "December      88431\n",
       "February      77801\n",
       "January       84328\n",
       "July         138242\n",
       "June          58110\n",
       "March         57576\n",
       "May           32387\n",
       "November      94900\n",
       "October      117645\n",
       "September    177943\n",
       "Name: Dengue_Cases, dtype: int64"
      ]
     },
     "execution_count": 39,
     "metadata": {},
     "output_type": "execute_result"
    }
   ],
   "source": [
    "seasonal_cases"
   ]
  },
  {
   "cell_type": "code",
   "execution_count": 40,
   "id": "d5dff8ba-0499-433e-bb41-74eb40b69f07",
   "metadata": {},
   "outputs": [
    {
     "data": {
      "text/plain": [
       "Month\n",
       "April         200\n",
       "August        714\n",
       "December      404\n",
       "February      315\n",
       "January       394\n",
       "July          611\n",
       "June          322\n",
       "March         291\n",
       "May           162\n",
       "November      613\n",
       "October      6670\n",
       "September    6148\n",
       "Name: Dengue_Deaths, dtype: int64"
      ]
     },
     "execution_count": 40,
     "metadata": {},
     "output_type": "execute_result"
    }
   ],
   "source": [
    "seasonal_deaths"
   ]
  },
  {
   "cell_type": "markdown",
   "id": "e9bd8a89-c56b-4da3-9d97-3bc8e37a75a4",
   "metadata": {},
   "source": [
    "<h1>11.Longitudinal Analysis by Region</h1>\n",
    "<h3>Dengue cases showed a sharp increase in 2019 across all regions, with the highest spikes in Region IV-A (76,195), Region VI (60,357), and Region III (37,158), indicating a major outbreak. However, in 2020, cases dropped significantly across all regions, with NCR (7,183), Region VI (4,131), and Region III (15,991) experiencing major declines, likely due to COVID-19 restrictions limiting human movement and mosquito exposure. </h3>"
   ]
  },
  {
   "cell_type": "code",
   "execution_count": 41,
   "id": "7859c4d9-b4c7-4f66-afa3-c25b94984ec8",
   "metadata": {},
   "outputs": [],
   "source": [
    "longitudinal_cases = dengue.groupby(['Region', 'Year'])['Dengue_Cases'].sum().unstack()"
   ]
  },
  {
   "cell_type": "code",
   "execution_count": 42,
   "id": "22ef6b46-d227-4a11-93ce-4b4bf1a52dcc",
   "metadata": {},
   "outputs": [
    {
     "data": {
      "text/html": [
       "<div>\n",
       "<style scoped>\n",
       "    .dataframe tbody tr th:only-of-type {\n",
       "        vertical-align: middle;\n",
       "    }\n",
       "\n",
       "    .dataframe tbody tr th {\n",
       "        vertical-align: top;\n",
       "    }\n",
       "\n",
       "    .dataframe thead th {\n",
       "        text-align: right;\n",
       "    }\n",
       "</style>\n",
       "<table border=\"1\" class=\"dataframe\">\n",
       "  <thead>\n",
       "    <tr style=\"text-align: right;\">\n",
       "      <th>Year</th>\n",
       "      <th>2016</th>\n",
       "      <th>2017</th>\n",
       "      <th>2018</th>\n",
       "      <th>2019</th>\n",
       "      <th>2020</th>\n",
       "    </tr>\n",
       "    <tr>\n",
       "      <th>Region</th>\n",
       "      <th></th>\n",
       "      <th></th>\n",
       "      <th></th>\n",
       "      <th></th>\n",
       "      <th></th>\n",
       "    </tr>\n",
       "  </thead>\n",
       "  <tbody>\n",
       "    <tr>\n",
       "      <th>BARMM</th>\n",
       "      <td>2191</td>\n",
       "      <td>485</td>\n",
       "      <td>2460</td>\n",
       "      <td>5393</td>\n",
       "      <td>1008</td>\n",
       "    </tr>\n",
       "    <tr>\n",
       "      <th>CAR</th>\n",
       "      <td>9164</td>\n",
       "      <td>4045</td>\n",
       "      <td>7584</td>\n",
       "      <td>8808</td>\n",
       "      <td>981</td>\n",
       "    </tr>\n",
       "    <tr>\n",
       "      <th>NCR</th>\n",
       "      <td>13002</td>\n",
       "      <td>26103</td>\n",
       "      <td>29200</td>\n",
       "      <td>40478</td>\n",
       "      <td>7183</td>\n",
       "    </tr>\n",
       "    <tr>\n",
       "      <th>Region I</th>\n",
       "      <td>8281</td>\n",
       "      <td>8236</td>\n",
       "      <td>15511</td>\n",
       "      <td>19867</td>\n",
       "      <td>7171</td>\n",
       "    </tr>\n",
       "    <tr>\n",
       "      <th>Region II</th>\n",
       "      <td>3891</td>\n",
       "      <td>5310</td>\n",
       "      <td>17678</td>\n",
       "      <td>16634</td>\n",
       "      <td>1628</td>\n",
       "    </tr>\n",
       "    <tr>\n",
       "      <th>Region III</th>\n",
       "      <td>20989</td>\n",
       "      <td>25200</td>\n",
       "      <td>31726</td>\n",
       "      <td>37158</td>\n",
       "      <td>15991</td>\n",
       "    </tr>\n",
       "    <tr>\n",
       "      <th>Region IV-A</th>\n",
       "      <td>24282</td>\n",
       "      <td>22421</td>\n",
       "      <td>30410</td>\n",
       "      <td>76195</td>\n",
       "      <td>9721</td>\n",
       "    </tr>\n",
       "    <tr>\n",
       "      <th>Region IV-B</th>\n",
       "      <td>3999</td>\n",
       "      <td>2770</td>\n",
       "      <td>8019</td>\n",
       "      <td>10984</td>\n",
       "      <td>5077</td>\n",
       "    </tr>\n",
       "    <tr>\n",
       "      <th>Region IX</th>\n",
       "      <td>7215</td>\n",
       "      <td>4274</td>\n",
       "      <td>6161</td>\n",
       "      <td>27447</td>\n",
       "      <td>2684</td>\n",
       "    </tr>\n",
       "    <tr>\n",
       "      <th>Region V</th>\n",
       "      <td>2532</td>\n",
       "      <td>3225</td>\n",
       "      <td>3548</td>\n",
       "      <td>11141</td>\n",
       "      <td>1721</td>\n",
       "    </tr>\n",
       "    <tr>\n",
       "      <th>Region VI</th>\n",
       "      <td>26170</td>\n",
       "      <td>9283</td>\n",
       "      <td>17582</td>\n",
       "      <td>60357</td>\n",
       "      <td>4131</td>\n",
       "    </tr>\n",
       "    <tr>\n",
       "      <th>Region VII</th>\n",
       "      <td>29395</td>\n",
       "      <td>15940</td>\n",
       "      <td>21889</td>\n",
       "      <td>31053</td>\n",
       "      <td>12406</td>\n",
       "    </tr>\n",
       "    <tr>\n",
       "      <th>Region VIII</th>\n",
       "      <td>5388</td>\n",
       "      <td>3916</td>\n",
       "      <td>10976</td>\n",
       "      <td>26871</td>\n",
       "      <td>4832</td>\n",
       "    </tr>\n",
       "    <tr>\n",
       "      <th>Region X</th>\n",
       "      <td>17680</td>\n",
       "      <td>6679</td>\n",
       "      <td>23497</td>\n",
       "      <td>28356</td>\n",
       "      <td>6225</td>\n",
       "    </tr>\n",
       "    <tr>\n",
       "      <th>Region XI</th>\n",
       "      <td>12137</td>\n",
       "      <td>3667</td>\n",
       "      <td>6316</td>\n",
       "      <td>8466</td>\n",
       "      <td>1936</td>\n",
       "    </tr>\n",
       "    <tr>\n",
       "      <th>Region XII</th>\n",
       "      <td>16013</td>\n",
       "      <td>9613</td>\n",
       "      <td>9173</td>\n",
       "      <td>20640</td>\n",
       "      <td>4363</td>\n",
       "    </tr>\n",
       "    <tr>\n",
       "      <th>Region XIII</th>\n",
       "      <td>7215</td>\n",
       "      <td>2988</td>\n",
       "      <td>9053</td>\n",
       "      <td>12054</td>\n",
       "      <td>3983</td>\n",
       "    </tr>\n",
       "  </tbody>\n",
       "</table>\n",
       "</div>"
      ],
      "text/plain": [
       "Year          2016   2017   2018   2019   2020\n",
       "Region                                        \n",
       "BARMM         2191    485   2460   5393   1008\n",
       "CAR           9164   4045   7584   8808    981\n",
       "NCR          13002  26103  29200  40478   7183\n",
       "Region I      8281   8236  15511  19867   7171\n",
       "Region II     3891   5310  17678  16634   1628\n",
       "Region III   20989  25200  31726  37158  15991\n",
       "Region IV-A  24282  22421  30410  76195   9721\n",
       "Region IV-B   3999   2770   8019  10984   5077\n",
       "Region IX     7215   4274   6161  27447   2684\n",
       "Region V      2532   3225   3548  11141   1721\n",
       "Region VI    26170   9283  17582  60357   4131\n",
       "Region VII   29395  15940  21889  31053  12406\n",
       "Region VIII   5388   3916  10976  26871   4832\n",
       "Region X     17680   6679  23497  28356   6225\n",
       "Region XI    12137   3667   6316   8466   1936\n",
       "Region XII   16013   9613   9173  20640   4363\n",
       "Region XIII   7215   2988   9053  12054   3983"
      ]
     },
     "execution_count": 42,
     "metadata": {},
     "output_type": "execute_result"
    }
   ],
   "source": [
    "longitudinal_cases"
   ]
  },
  {
   "cell_type": "markdown",
   "id": "dafa4189-0a6b-4b21-ba2b-8a034fca16cc",
   "metadata": {},
   "source": [
    "<h1>12.Analysis of Yearly Variability</h1>\n",
    "<h3>The highest variability in dengue cases occurred in 2019 (STD = 2880.38), indicating widespread and inconsistent outbreaks across regions, possibly due to environmental and epidemiological factors. In contrast, 2020 had the lowest case variability (STD = 627.29), suggesting a more uniform decline in cases, likely influenced by pandemic-related restrictions. Dengue deaths showed the highest variation in 2016 (STD = 192.47), possibly due to differences in healthcare response across regions, while 2018 had the lowest variability (STD = 6.82), suggesting more consistent fatality rates that year.</h3>"
   ]
  },
  {
   "cell_type": "code",
   "execution_count": 43,
   "id": "7ca814e7-b6e2-4b70-90ed-d6055d112374",
   "metadata": {},
   "outputs": [],
   "source": [
    "yearly_std = dengue.groupby('Year')[['Dengue_Cases', 'Dengue_Deaths']].std()"
   ]
  },
  {
   "cell_type": "code",
   "execution_count": 44,
   "id": "42b1502b-c21c-48d2-921a-70d5c89a3082",
   "metadata": {},
   "outputs": [
    {
     "data": {
      "text/html": [
       "<div>\n",
       "<style scoped>\n",
       "    .dataframe tbody tr th:only-of-type {\n",
       "        vertical-align: middle;\n",
       "    }\n",
       "\n",
       "    .dataframe tbody tr th {\n",
       "        vertical-align: top;\n",
       "    }\n",
       "\n",
       "    .dataframe thead th {\n",
       "        text-align: right;\n",
       "    }\n",
       "</style>\n",
       "<table border=\"1\" class=\"dataframe\">\n",
       "  <thead>\n",
       "    <tr style=\"text-align: right;\">\n",
       "      <th></th>\n",
       "      <th>Dengue_Cases</th>\n",
       "      <th>Dengue_Deaths</th>\n",
       "    </tr>\n",
       "    <tr>\n",
       "      <th>Year</th>\n",
       "      <th></th>\n",
       "      <th></th>\n",
       "    </tr>\n",
       "  </thead>\n",
       "  <tbody>\n",
       "    <tr>\n",
       "      <th>2016</th>\n",
       "      <td>1087.944973</td>\n",
       "      <td>192.469275</td>\n",
       "    </tr>\n",
       "    <tr>\n",
       "      <th>2017</th>\n",
       "      <td>894.176991</td>\n",
       "      <td>89.713046</td>\n",
       "    </tr>\n",
       "    <tr>\n",
       "      <th>2018</th>\n",
       "      <td>1221.698444</td>\n",
       "      <td>6.821431</td>\n",
       "    </tr>\n",
       "    <tr>\n",
       "      <th>2019</th>\n",
       "      <td>2880.384865</td>\n",
       "      <td>12.326230</td>\n",
       "    </tr>\n",
       "    <tr>\n",
       "      <th>2020</th>\n",
       "      <td>627.289105</td>\n",
       "      <td>21.104814</td>\n",
       "    </tr>\n",
       "  </tbody>\n",
       "</table>\n",
       "</div>"
      ],
      "text/plain": [
       "      Dengue_Cases  Dengue_Deaths\n",
       "Year                             \n",
       "2016   1087.944973     192.469275\n",
       "2017    894.176991      89.713046\n",
       "2018   1221.698444       6.821431\n",
       "2019   2880.384865      12.326230\n",
       "2020    627.289105      21.104814"
      ]
     },
     "execution_count": 44,
     "metadata": {},
     "output_type": "execute_result"
    }
   ],
   "source": [
    "yearly_std"
   ]
  },
  {
   "cell_type": "markdown",
   "id": "beb12452-5d58-44c1-b2cb-befabdf333e6",
   "metadata": {},
   "source": [
    "<h1>13.Percentage Contribution by Region</h1>\n",
    "<h3>Region IV-A (14.21%) and Region III (11.42%) contributed the most to dengue cases, likely due to their large populations and favorable conditions for mosquito breeding. Meanwhile, BARMM (1.01%) and Region V (1.93%) had the lowest contributions, possibly due to lower population density or effective vector control measures.</h3>"
   ]
  },
  {
   "cell_type": "code",
   "execution_count": 45,
   "id": "eb84c75c-9e0e-479a-a8bd-e4bfc83a99f0",
   "metadata": {},
   "outputs": [],
   "source": [
    "total_cases = dengue['Dengue_Cases'].sum()\n",
    "region_contribution = (cases_by_region / total_cases) * 100"
   ]
  },
  {
   "cell_type": "code",
   "execution_count": 46,
   "id": "2c5f0b25-d492-4cd2-8706-570c7df2414f",
   "metadata": {},
   "outputs": [
    {
     "data": {
      "text/plain": [
       "Region\n",
       "BARMM           1.005469\n",
       "CAR             2.665272\n",
       "NCR            10.106630\n",
       "Region I        5.147700\n",
       "Region II       3.934113\n",
       "Region III     11.422446\n",
       "Region IV-A    14.208249\n",
       "Region IV-B     2.688542\n",
       "Region IX       4.164194\n",
       "Region V        1.931891\n",
       "Region VI      10.242325\n",
       "Region VII      9.646208\n",
       "Region VIII     4.530405\n",
       "Region X        7.184522\n",
       "Region XI       2.834346\n",
       "Region XII      5.211844\n",
       "Region XIII     3.075844\n",
       "Name: Dengue_Cases, dtype: float64"
      ]
     },
     "execution_count": 46,
     "metadata": {},
     "output_type": "execute_result"
    }
   ],
   "source": [
    "region_contribution"
   ]
  },
  {
   "cell_type": "markdown",
   "id": "564663ec-5390-4a11-be6b-5d131fd83631",
   "metadata": {},
   "source": [
    "<h1>14.Comparison of Cases and Deaths per Region</h1>\n",
    "<h3>Region IV-A (163,029 cases) and Region III (131,064 cases) had the highest dengue cases, yet their fatality counts (652 and 482, respectively) were relatively low, suggesting better healthcare management or lower disease severity. In contrast, Region XII had significantly fewer cases (59,802) but a very high death count (2,796), indicating a much higher fatality rate, possibly due to healthcare limitations or late treatment. NCR (115,966 cases, 4,008 deaths) had both high cases and deaths, reflecting its dense population and increased transmission risk. Meanwhile, Region I (59,066 cases, 157 deaths) and Region II (45,141 cases, 193 deaths) had lower fatality counts relative to their cases, suggesting effective disease control or better access to treatment.</h3>"
   ]
  },
  {
   "cell_type": "code",
   "execution_count": 47,
   "id": "8485807a-1610-4dfc-b074-dbc7a7cc727e",
   "metadata": {},
   "outputs": [],
   "source": [
    "comparison_bar = cases_by_region.to_frame().merge(deaths_by_region.to_frame(), left_index=True, right_index=True)\n"
   ]
  },
  {
   "cell_type": "code",
   "execution_count": 48,
   "id": "0b05d4c8-947f-4d94-bef5-9defb814ef12",
   "metadata": {},
   "outputs": [
    {
     "data": {
      "text/html": [
       "<div>\n",
       "<style scoped>\n",
       "    .dataframe tbody tr th:only-of-type {\n",
       "        vertical-align: middle;\n",
       "    }\n",
       "\n",
       "    .dataframe tbody tr th {\n",
       "        vertical-align: top;\n",
       "    }\n",
       "\n",
       "    .dataframe thead th {\n",
       "        text-align: right;\n",
       "    }\n",
       "</style>\n",
       "<table border=\"1\" class=\"dataframe\">\n",
       "  <thead>\n",
       "    <tr style=\"text-align: right;\">\n",
       "      <th></th>\n",
       "      <th>Dengue_Cases</th>\n",
       "      <th>Dengue_Deaths</th>\n",
       "    </tr>\n",
       "    <tr>\n",
       "      <th>Region</th>\n",
       "      <th></th>\n",
       "      <th></th>\n",
       "    </tr>\n",
       "  </thead>\n",
       "  <tbody>\n",
       "    <tr>\n",
       "      <th>BARMM</th>\n",
       "      <td>11537</td>\n",
       "      <td>332</td>\n",
       "    </tr>\n",
       "    <tr>\n",
       "      <th>CAR</th>\n",
       "      <td>30582</td>\n",
       "      <td>1008</td>\n",
       "    </tr>\n",
       "    <tr>\n",
       "      <th>NCR</th>\n",
       "      <td>115966</td>\n",
       "      <td>4008</td>\n",
       "    </tr>\n",
       "    <tr>\n",
       "      <th>Region I</th>\n",
       "      <td>59066</td>\n",
       "      <td>157</td>\n",
       "    </tr>\n",
       "    <tr>\n",
       "      <th>Region II</th>\n",
       "      <td>45141</td>\n",
       "      <td>193</td>\n",
       "    </tr>\n",
       "    <tr>\n",
       "      <th>Region III</th>\n",
       "      <td>131064</td>\n",
       "      <td>482</td>\n",
       "    </tr>\n",
       "    <tr>\n",
       "      <th>Region IV-A</th>\n",
       "      <td>163029</td>\n",
       "      <td>652</td>\n",
       "    </tr>\n",
       "    <tr>\n",
       "      <th>Region IV-B</th>\n",
       "      <td>30849</td>\n",
       "      <td>130</td>\n",
       "    </tr>\n",
       "    <tr>\n",
       "      <th>Region IX</th>\n",
       "      <td>47781</td>\n",
       "      <td>532</td>\n",
       "    </tr>\n",
       "    <tr>\n",
       "      <th>Region V</th>\n",
       "      <td>22167</td>\n",
       "      <td>185</td>\n",
       "    </tr>\n",
       "    <tr>\n",
       "      <th>Region VI</th>\n",
       "      <td>117523</td>\n",
       "      <td>1825</td>\n",
       "    </tr>\n",
       "    <tr>\n",
       "      <th>Region VII</th>\n",
       "      <td>110683</td>\n",
       "      <td>1760</td>\n",
       "    </tr>\n",
       "    <tr>\n",
       "      <th>Region VIII</th>\n",
       "      <td>51983</td>\n",
       "      <td>585</td>\n",
       "    </tr>\n",
       "    <tr>\n",
       "      <th>Region X</th>\n",
       "      <td>82437</td>\n",
       "      <td>848</td>\n",
       "    </tr>\n",
       "    <tr>\n",
       "      <th>Region XI</th>\n",
       "      <td>32522</td>\n",
       "      <td>385</td>\n",
       "    </tr>\n",
       "    <tr>\n",
       "      <th>Region XII</th>\n",
       "      <td>59802</td>\n",
       "      <td>2796</td>\n",
       "    </tr>\n",
       "    <tr>\n",
       "      <th>Region XIII</th>\n",
       "      <td>35293</td>\n",
       "      <td>966</td>\n",
       "    </tr>\n",
       "  </tbody>\n",
       "</table>\n",
       "</div>"
      ],
      "text/plain": [
       "             Dengue_Cases  Dengue_Deaths\n",
       "Region                                  \n",
       "BARMM               11537            332\n",
       "CAR                 30582           1008\n",
       "NCR                115966           4008\n",
       "Region I            59066            157\n",
       "Region II           45141            193\n",
       "Region III         131064            482\n",
       "Region IV-A        163029            652\n",
       "Region IV-B         30849            130\n",
       "Region IX           47781            532\n",
       "Region V            22167            185\n",
       "Region VI          117523           1825\n",
       "Region VII         110683           1760\n",
       "Region VIII         51983            585\n",
       "Region X            82437            848\n",
       "Region XI           32522            385\n",
       "Region XII          59802           2796\n",
       "Region XIII         35293            966"
      ]
     },
     "execution_count": 48,
     "metadata": {},
     "output_type": "execute_result"
    }
   ],
   "source": [
    "comparison_bar "
   ]
  },
  {
   "cell_type": "markdown",
   "id": "cb88f856-95a0-4e22-a979-f1b24ee90363",
   "metadata": {},
   "source": [
    "<h1>15.Monthly Comparison of Deaths Across Years</h1>\n",
    "<h3>Dengue deaths peaked in October and September of 2016 (3,954 and 3,418 deaths), marking the deadliest outbreak period, while subsequent years saw significantly lower fatalities. In 2019, deaths were more evenly distributed, with notable increases in August (280), July (232), and September (377), suggesting a prolonged transmission season. By 2020, deaths dropped sharply across all months, likely due to improved healthcare response and pandemic-related movement restrictions reducing mosquito exposure. Overall, October and September consistently recorded high deaths across years, reinforcing the need for intensified dengue prevention efforts before these peak months.</h3>"
   ]
  },
  {
   "cell_type": "code",
   "execution_count": 59,
   "id": "f3ba157d-049e-4889-9ae2-4b30c590ce0d",
   "metadata": {},
   "outputs": [],
   "source": [
    "monthly_deaths_by_year = dengue.groupby(['Year', 'Month'])['Dengue_Deaths'].sum().unstack()"
   ]
  },
  {
   "cell_type": "code",
   "execution_count": 60,
   "id": "84ac79e1-9e42-4f6d-ba61-ed869f56dbce",
   "metadata": {},
   "outputs": [
    {
     "data": {
      "text/html": [
       "<div>\n",
       "<style scoped>\n",
       "    .dataframe tbody tr th:only-of-type {\n",
       "        vertical-align: middle;\n",
       "    }\n",
       "\n",
       "    .dataframe tbody tr th {\n",
       "        vertical-align: top;\n",
       "    }\n",
       "\n",
       "    .dataframe thead th {\n",
       "        text-align: right;\n",
       "    }\n",
       "</style>\n",
       "<table border=\"1\" class=\"dataframe\">\n",
       "  <thead>\n",
       "    <tr style=\"text-align: right;\">\n",
       "      <th>Month</th>\n",
       "      <th>April</th>\n",
       "      <th>August</th>\n",
       "      <th>December</th>\n",
       "      <th>February</th>\n",
       "      <th>January</th>\n",
       "      <th>July</th>\n",
       "      <th>June</th>\n",
       "      <th>March</th>\n",
       "      <th>May</th>\n",
       "      <th>November</th>\n",
       "      <th>October</th>\n",
       "      <th>September</th>\n",
       "    </tr>\n",
       "    <tr>\n",
       "      <th>Year</th>\n",
       "      <th></th>\n",
       "      <th></th>\n",
       "      <th></th>\n",
       "      <th></th>\n",
       "      <th></th>\n",
       "      <th></th>\n",
       "      <th></th>\n",
       "      <th></th>\n",
       "      <th></th>\n",
       "      <th></th>\n",
       "      <th></th>\n",
       "      <th></th>\n",
       "    </tr>\n",
       "  </thead>\n",
       "  <tbody>\n",
       "    <tr>\n",
       "      <th>2016</th>\n",
       "      <td>40</td>\n",
       "      <td>132</td>\n",
       "      <td>83</td>\n",
       "      <td>43</td>\n",
       "      <td>73</td>\n",
       "      <td>123</td>\n",
       "      <td>69</td>\n",
       "      <td>47</td>\n",
       "      <td>41</td>\n",
       "      <td>104</td>\n",
       "      <td>3954</td>\n",
       "      <td>3418</td>\n",
       "    </tr>\n",
       "    <tr>\n",
       "      <th>2017</th>\n",
       "      <td>43</td>\n",
       "      <td>111</td>\n",
       "      <td>73</td>\n",
       "      <td>64</td>\n",
       "      <td>95</td>\n",
       "      <td>74</td>\n",
       "      <td>42</td>\n",
       "      <td>36</td>\n",
       "      <td>23</td>\n",
       "      <td>78</td>\n",
       "      <td>2098</td>\n",
       "      <td>1826</td>\n",
       "    </tr>\n",
       "    <tr>\n",
       "      <th>2018</th>\n",
       "      <td>41</td>\n",
       "      <td>156</td>\n",
       "      <td>135</td>\n",
       "      <td>43</td>\n",
       "      <td>65</td>\n",
       "      <td>153</td>\n",
       "      <td>78</td>\n",
       "      <td>58</td>\n",
       "      <td>31</td>\n",
       "      <td>131</td>\n",
       "      <td>150</td>\n",
       "      <td>185</td>\n",
       "    </tr>\n",
       "    <tr>\n",
       "      <th>2019</th>\n",
       "      <td>59</td>\n",
       "      <td>280</td>\n",
       "      <td>91</td>\n",
       "      <td>101</td>\n",
       "      <td>94</td>\n",
       "      <td>232</td>\n",
       "      <td>119</td>\n",
       "      <td>103</td>\n",
       "      <td>56</td>\n",
       "      <td>88</td>\n",
       "      <td>133</td>\n",
       "      <td>377</td>\n",
       "    </tr>\n",
       "    <tr>\n",
       "      <th>2020</th>\n",
       "      <td>17</td>\n",
       "      <td>35</td>\n",
       "      <td>22</td>\n",
       "      <td>64</td>\n",
       "      <td>67</td>\n",
       "      <td>29</td>\n",
       "      <td>14</td>\n",
       "      <td>47</td>\n",
       "      <td>11</td>\n",
       "      <td>212</td>\n",
       "      <td>335</td>\n",
       "      <td>342</td>\n",
       "    </tr>\n",
       "  </tbody>\n",
       "</table>\n",
       "</div>"
      ],
      "text/plain": [
       "Month  April  August  December  February  January  July  June  March  May  \\\n",
       "Year                                                                        \n",
       "2016      40     132        83        43       73   123    69     47   41   \n",
       "2017      43     111        73        64       95    74    42     36   23   \n",
       "2018      41     156       135        43       65   153    78     58   31   \n",
       "2019      59     280        91       101       94   232   119    103   56   \n",
       "2020      17      35        22        64       67    29    14     47   11   \n",
       "\n",
       "Month  November  October  September  \n",
       "Year                                 \n",
       "2016        104     3954       3418  \n",
       "2017         78     2098       1826  \n",
       "2018        131      150        185  \n",
       "2019         88      133        377  \n",
       "2020        212      335        342  "
      ]
     },
     "execution_count": 60,
     "metadata": {},
     "output_type": "execute_result"
    }
   ],
   "source": [
    "monthly_deaths_by_year "
   ]
  },
  {
   "cell_type": "markdown",
   "id": "33a87ad1-97d7-4f3d-81f1-2e505e665185",
   "metadata": {},
   "source": [
    "<h1>16.Monthly Comparison of Cases Across Years</h1>\n",
    "<h3>Dengue cases peaked in August and September of 2019 (85,038 and 89,642 cases), marking the most severe outbreak year, while 2020 saw a drastic drop across all months, likely due to COVID-19 restrictions limiting mosquito exposure. Across multiple years, August and September consistently recorded the highest cases, aligning with the rainy season, which promotes mosquito breeding. In contrast, April and May consistently had the lowest cases, indicating reduced transmission during drier months. The sharp decline in 2020 cases, especially in peak months, highlights the impact of external factors like movement restrictions on dengue transmission.</h3>"
   ]
  },
  {
   "cell_type": "code",
   "execution_count": 61,
   "id": "e18f8397-eb42-4817-a537-e9f11d9d468f",
   "metadata": {},
   "outputs": [],
   "source": [
    "monthly_cases_by_year = dengue.groupby(['Year', 'Month'])['Dengue_Cases'].sum().unstack()"
   ]
  },
  {
   "cell_type": "code",
   "execution_count": 62,
   "id": "2381dfa9-718a-461e-802f-bbebdefec63e",
   "metadata": {},
   "outputs": [
    {
     "data": {
      "text/html": [
       "<div>\n",
       "<style scoped>\n",
       "    .dataframe tbody tr th:only-of-type {\n",
       "        vertical-align: middle;\n",
       "    }\n",
       "\n",
       "    .dataframe tbody tr th {\n",
       "        vertical-align: top;\n",
       "    }\n",
       "\n",
       "    .dataframe thead th {\n",
       "        text-align: right;\n",
       "    }\n",
       "</style>\n",
       "<table border=\"1\" class=\"dataframe\">\n",
       "  <thead>\n",
       "    <tr style=\"text-align: right;\">\n",
       "      <th>Month</th>\n",
       "      <th>April</th>\n",
       "      <th>August</th>\n",
       "      <th>December</th>\n",
       "      <th>February</th>\n",
       "      <th>January</th>\n",
       "      <th>July</th>\n",
       "      <th>June</th>\n",
       "      <th>March</th>\n",
       "      <th>May</th>\n",
       "      <th>November</th>\n",
       "      <th>October</th>\n",
       "      <th>September</th>\n",
       "    </tr>\n",
       "    <tr>\n",
       "      <th>Year</th>\n",
       "      <th></th>\n",
       "      <th></th>\n",
       "      <th></th>\n",
       "      <th></th>\n",
       "      <th></th>\n",
       "      <th></th>\n",
       "      <th></th>\n",
       "      <th></th>\n",
       "      <th></th>\n",
       "      <th></th>\n",
       "      <th></th>\n",
       "      <th></th>\n",
       "    </tr>\n",
       "  </thead>\n",
       "  <tbody>\n",
       "    <tr>\n",
       "      <th>2016</th>\n",
       "      <td>7269</td>\n",
       "      <td>36195</td>\n",
       "      <td>13490</td>\n",
       "      <td>12386</td>\n",
       "      <td>17052</td>\n",
       "      <td>29744</td>\n",
       "      <td>10831</td>\n",
       "      <td>9300</td>\n",
       "      <td>8092</td>\n",
       "      <td>16252</td>\n",
       "      <td>21943</td>\n",
       "      <td>26990</td>\n",
       "    </tr>\n",
       "    <tr>\n",
       "      <th>2017</th>\n",
       "      <td>6343</td>\n",
       "      <td>25039</td>\n",
       "      <td>13235</td>\n",
       "      <td>9872</td>\n",
       "      <td>15623</td>\n",
       "      <td>18340</td>\n",
       "      <td>7589</td>\n",
       "      <td>7696</td>\n",
       "      <td>4853</td>\n",
       "      <td>12553</td>\n",
       "      <td>15259</td>\n",
       "      <td>17753</td>\n",
       "    </tr>\n",
       "    <tr>\n",
       "      <th>2018</th>\n",
       "      <td>6860</td>\n",
       "      <td>34210</td>\n",
       "      <td>31353</td>\n",
       "      <td>10466</td>\n",
       "      <td>12657</td>\n",
       "      <td>30363</td>\n",
       "      <td>11502</td>\n",
       "      <td>7944</td>\n",
       "      <td>6594</td>\n",
       "      <td>30191</td>\n",
       "      <td>30026</td>\n",
       "      <td>38617</td>\n",
       "    </tr>\n",
       "    <tr>\n",
       "      <th>2019</th>\n",
       "      <td>9252</td>\n",
       "      <td>85038</td>\n",
       "      <td>24397</td>\n",
       "      <td>25494</td>\n",
       "      <td>20672</td>\n",
       "      <td>55220</td>\n",
       "      <td>25523</td>\n",
       "      <td>19798</td>\n",
       "      <td>10387</td>\n",
       "      <td>30097</td>\n",
       "      <td>46382</td>\n",
       "      <td>89642</td>\n",
       "    </tr>\n",
       "    <tr>\n",
       "      <th>2020</th>\n",
       "      <td>2784</td>\n",
       "      <td>7072</td>\n",
       "      <td>5956</td>\n",
       "      <td>19583</td>\n",
       "      <td>18324</td>\n",
       "      <td>4575</td>\n",
       "      <td>2665</td>\n",
       "      <td>12838</td>\n",
       "      <td>2461</td>\n",
       "      <td>5807</td>\n",
       "      <td>4035</td>\n",
       "      <td>4941</td>\n",
       "    </tr>\n",
       "  </tbody>\n",
       "</table>\n",
       "</div>"
      ],
      "text/plain": [
       "Month  April  August  December  February  January   July   June  March    May  \\\n",
       "Year                                                                            \n",
       "2016    7269   36195     13490     12386    17052  29744  10831   9300   8092   \n",
       "2017    6343   25039     13235      9872    15623  18340   7589   7696   4853   \n",
       "2018    6860   34210     31353     10466    12657  30363  11502   7944   6594   \n",
       "2019    9252   85038     24397     25494    20672  55220  25523  19798  10387   \n",
       "2020    2784    7072      5956     19583    18324   4575   2665  12838   2461   \n",
       "\n",
       "Month  November  October  September  \n",
       "Year                                 \n",
       "2016      16252    21943      26990  \n",
       "2017      12553    15259      17753  \n",
       "2018      30191    30026      38617  \n",
       "2019      30097    46382      89642  \n",
       "2020       5807     4035       4941  "
      ]
     },
     "execution_count": 62,
     "metadata": {},
     "output_type": "execute_result"
    }
   ],
   "source": [
    "monthly_cases_by_year"
   ]
  },
  {
   "cell_type": "markdown",
   "id": "e0ee2577-e1aa-400d-b9f8-50ba049df42b",
   "metadata": {},
   "source": [
    "<h1>17.Total Dengue Cases by Year</h1>\n",
    "<h3>Dengue cases peaked in 2019 with 441,902 cases, marking the most severe outbreak, likely due to increased mosquito activity and favorable environmental conditions. In 2020, cases dropped sharply to 91,041, possibly due to COVID-19 restrictions reducing human movement and mosquito exposure.</h3>"
   ]
  },
  {
   "cell_type": "code",
   "execution_count": 51,
   "id": "94179714-0d0b-4f0a-86dd-f5aee754e1ae",
   "metadata": {},
   "outputs": [],
   "source": [
    "cases_by_year = dengue.groupby('Year')['Dengue_Cases'].sum()"
   ]
  },
  {
   "cell_type": "code",
   "execution_count": 52,
   "id": "7d899a34-3afb-4a44-a535-330fca45eb65",
   "metadata": {},
   "outputs": [
    {
     "data": {
      "text/plain": [
       "Year\n",
       "2016    209544\n",
       "2017    154155\n",
       "2018    250783\n",
       "2019    441902\n",
       "2020     91041\n",
       "Name: Dengue_Cases, dtype: int64"
      ]
     },
     "execution_count": 52,
     "metadata": {},
     "output_type": "execute_result"
    }
   ],
   "source": [
    "cases_by_year"
   ]
  },
  {
   "cell_type": "markdown",
   "id": "55cc9ee1-f7dd-41dc-b371-1023ce73698a",
   "metadata": {},
   "source": [
    "<h1>18.Total Dengue Deaths by Year</h1>\n",
    "<h3>Dengue deaths declined significantly from 8,127 in 2016 to 1,195 in 2020, despite case fluctuations, suggesting improved healthcare and disease management. The sharp drop in 2018 and beyond indicates better early detection, treatment, and possible external factors like COVID-19 restrictions reducing severe infections.</h3>"
   ]
  },
  {
   "cell_type": "code",
   "execution_count": 53,
   "id": "2a8177ea-69b1-461a-9a7c-5d3c1675c287",
   "metadata": {},
   "outputs": [],
   "source": [
    "deaths_by_year = dengue.groupby('Year')['Dengue_Deaths'].sum()"
   ]
  },
  {
   "cell_type": "code",
   "execution_count": 54,
   "id": "918751f2-6ce6-46a9-bb4e-36417f6a7ac2",
   "metadata": {},
   "outputs": [
    {
     "data": {
      "text/plain": [
       "Year\n",
       "2016    8127\n",
       "2017    4563\n",
       "2018    1226\n",
       "2019    1733\n",
       "2020    1195\n",
       "Name: Dengue_Deaths, dtype: int64"
      ]
     },
     "execution_count": 54,
     "metadata": {},
     "output_type": "execute_result"
    }
   ],
   "source": [
    "deaths_by_year "
   ]
  },
  {
   "cell_type": "markdown",
   "id": "b0022b12-4499-4dab-82e5-afb8306a9920",
   "metadata": {},
   "source": [
    "<h1>19.Monthly Trends in Dengue Cases</h1>\n",
    "<h3>Dengue cases peak in August (2,206.52) and September (2,093.45), aligning with the rainy season when mosquito breeding is at its highest. In contrast, April (382.45) and May (381.02) report the lowest cases, likely due to drier conditions reducing mosquito activity.</h3>"
   ]
  },
  {
   "cell_type": "code",
   "execution_count": 55,
   "id": "8c5e890f-0591-462b-8dbf-22350f8bc6f5",
   "metadata": {},
   "outputs": [],
   "source": [
    "monthly_cases = dengue.groupby('Month')['Dengue_Cases'].mean()"
   ]
  },
  {
   "cell_type": "code",
   "execution_count": 56,
   "id": "012e2c66-6d5b-4a9d-8954-287a5359e59a",
   "metadata": {},
   "outputs": [
    {
     "data": {
      "text/plain": [
       "Month\n",
       "April         382.447059\n",
       "August       2206.517647\n",
       "December     1040.364706\n",
       "February      915.305882\n",
       "January       992.094118\n",
       "July         1626.376471\n",
       "June          683.647059\n",
       "March         677.364706\n",
       "May           381.023529\n",
       "November     1116.470588\n",
       "October      1384.058824\n",
       "September    2093.447059\n",
       "Name: Dengue_Cases, dtype: float64"
      ]
     },
     "execution_count": 56,
     "metadata": {},
     "output_type": "execute_result"
    }
   ],
   "source": [
    "monthly_cases"
   ]
  },
  {
   "cell_type": "markdown",
   "id": "adab188f-aca4-4722-8a84-67b1c86484bc",
   "metadata": {},
   "source": [
    "<h1>20.Monthly Trends in Dengue Deaths</h1>\n",
    "<h3>Dengue deaths peak in October (78.47) and September (72.33), indicating a lag between peak cases in August and September and severe outcomes. In contrast, May (1.91) and April (2.35) report the lowest death rates, aligning with the lowest case numbers and reduced transmission during drier months.</h3>"
   ]
  },
  {
   "cell_type": "code",
   "execution_count": 57,
   "id": "29645d82-ebd9-4501-bb87-5157af0731b5",
   "metadata": {},
   "outputs": [],
   "source": [
    "monthly_deaths = dengue.groupby('Month')['Dengue_Deaths'].mean()"
   ]
  },
  {
   "cell_type": "code",
   "execution_count": 58,
   "id": "a1a6ef3b-3e15-4e9a-9dce-6f7c8d561924",
   "metadata": {},
   "outputs": [
    {
     "data": {
      "text/plain": [
       "Month\n",
       "April         2.352941\n",
       "August        8.400000\n",
       "December      4.752941\n",
       "February      3.705882\n",
       "January       4.635294\n",
       "July          7.188235\n",
       "June          3.788235\n",
       "March         3.423529\n",
       "May           1.905882\n",
       "November      7.211765\n",
       "October      78.470588\n",
       "September    72.329412\n",
       "Name: Dengue_Deaths, dtype: float64"
      ]
     },
     "execution_count": 58,
     "metadata": {},
     "output_type": "execute_result"
    }
   ],
   "source": [
    "monthly_deaths"
   ]
  },
  {
   "cell_type": "code",
   "execution_count": null,
   "id": "f0f6dd69-ff3c-4b48-b7b0-2ab73b112b35",
   "metadata": {},
   "outputs": [],
   "source": []
  }
 ],
 "metadata": {
  "kernelspec": {
   "display_name": "Python 3 (ipykernel)",
   "language": "python",
   "name": "python3"
  },
  "language_info": {
   "codemirror_mode": {
    "name": "ipython",
    "version": 3
   },
   "file_extension": ".py",
   "mimetype": "text/x-python",
   "name": "python",
   "nbconvert_exporter": "python",
   "pygments_lexer": "ipython3",
   "version": "3.13.0"
  }
 },
 "nbformat": 4,
 "nbformat_minor": 5
}
